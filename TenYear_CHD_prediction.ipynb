{
  "cells": [
    {
      "cell_type": "markdown",
      "source": [
        "# pyspark and machine learning: binary classification"
      ],
      "metadata": {
        "id": "Zlb3yXpLtQCR"
      }
    },
    {
      "cell_type": "code",
      "source": [
        "!pip install pyspark\n",
        "from pyspark.sql import SparkSession"
      ],
      "metadata": {
        "id": "dKyIJfLDtfYk"
      },
      "execution_count": null,
      "outputs": []
    },
    {
      "cell_type": "markdown",
      "source": [
        "Then, we need to configure SparkSession and sparkContext:"
      ],
      "metadata": {
        "id": "J0dLIHnotwLb"
      }
    },
    {
      "cell_type": "code",
      "source": [
        "spark = SparkSession.builder\\\n",
        "    .master(\"local[*]\")\\\n",
        "    .appName(\"ML Term Deposit Pred\")\\\n",
        "    .getOrCreate()\n",
        "sc = spark.sparkContext\n"
      ],
      "metadata": {
        "id": "_POdvXFStq1v"
      },
      "execution_count": null,
      "outputs": []
    },
    {
      "cell_type": "markdown",
      "source": [
        "Next, we will import the dataset using read.csv function:"
      ],
      "metadata": {
        "id": "67E-_WGytxVK"
      }
    },
    {
      "cell_type": "code",
      "source": [
        "df = spark.read.csv('/content/framingham_heart_disease.csv', header = True, inferSchema = True)\n",
        "df.printSchema()\n"
      ],
      "metadata": {
        "id": "0FMIwqQut1Gf",
        "colab": {
          "base_uri": "https://localhost:8080/"
        },
        "outputId": "e48ef7f7-f365-4f54-b5b5-a7be758f9f67"
      },
      "execution_count": null,
      "outputs": [
        {
          "output_type": "stream",
          "name": "stdout",
          "text": [
            "root\n",
            " |-- male: integer (nullable = true)\n",
            " |-- age: integer (nullable = true)\n",
            " |-- education: string (nullable = true)\n",
            " |-- currentSmoker: integer (nullable = true)\n",
            " |-- cigsPerDay: string (nullable = true)\n",
            " |-- BPMeds: string (nullable = true)\n",
            " |-- prevalentStroke: integer (nullable = true)\n",
            " |-- prevalentHyp: integer (nullable = true)\n",
            " |-- diabetes: integer (nullable = true)\n",
            " |-- totChol: string (nullable = true)\n",
            " |-- sysBP: double (nullable = true)\n",
            " |-- diaBP: double (nullable = true)\n",
            " |-- BMI: string (nullable = true)\n",
            " |-- heartRate: string (nullable = true)\n",
            " |-- glucose: string (nullable = true)\n",
            " |-- TenYearCHD: integer (nullable = true)\n",
            "\n"
          ]
        }
      ]
    },
    {
      "cell_type": "code",
      "source": [
        "# Converting all the columns to numeric\n",
        "from pyspark.sql.functions import col\n",
        "\n",
        "df_numeric = df.select([col(c).cast(\"double\").alias(c) for c in df.columns])\n",
        "df_numeric.show(5)"
      ],
      "metadata": {
        "colab": {
          "base_uri": "https://localhost:8080/"
        },
        "id": "CkZS-qgolXto",
        "outputId": "f054734c-9baf-4480-c214-83cf9ad946c7"
      },
      "execution_count": null,
      "outputs": [
        {
          "output_type": "stream",
          "name": "stdout",
          "text": [
            "+----+----+---------+-------------+----------+------+---------------+------------+--------+-------+-----+-----+-----+---------+-------+----------+\n",
            "|male| age|education|currentSmoker|cigsPerDay|BPMeds|prevalentStroke|prevalentHyp|diabetes|totChol|sysBP|diaBP|  BMI|heartRate|glucose|TenYearCHD|\n",
            "+----+----+---------+-------------+----------+------+---------------+------------+--------+-------+-----+-----+-----+---------+-------+----------+\n",
            "| 1.0|39.0|      4.0|          0.0|       0.0|   0.0|            0.0|         0.0|     0.0|  195.0|106.0| 70.0|26.97|     80.0|   77.0|       0.0|\n",
            "| 0.0|46.0|      2.0|          0.0|       0.0|   0.0|            0.0|         0.0|     0.0|  250.0|121.0| 81.0|28.73|     95.0|   76.0|       0.0|\n",
            "| 1.0|48.0|      1.0|          1.0|      20.0|   0.0|            0.0|         0.0|     0.0|  245.0|127.5| 80.0|25.34|     75.0|   70.0|       0.0|\n",
            "| 0.0|61.0|      3.0|          1.0|      30.0|   0.0|            0.0|         1.0|     0.0|  225.0|150.0| 95.0|28.58|     65.0|  103.0|       1.0|\n",
            "| 0.0|46.0|      3.0|          1.0|      23.0|   0.0|            0.0|         0.0|     0.0|  285.0|130.0| 84.0| 23.1|     85.0|   85.0|       0.0|\n",
            "+----+----+---------+-------------+----------+------+---------------+------------+--------+-------+-----+-----+-----+---------+-------+----------+\n",
            "only showing top 5 rows\n",
            "\n"
          ]
        }
      ]
    },
    {
      "cell_type": "markdown",
      "source": [
        "Next, we can calculate summary statics for the numeric variables in the dataset:"
      ],
      "metadata": {
        "id": "08MG6sgUOGtV"
      }
    },
    {
      "cell_type": "code",
      "source": [
        "# Using the describe function to calculate the summary statistics of the numeric variables\n",
        "df_numeric.describe().toPandas()\n"
      ],
      "metadata": {
        "id": "CvWkSuhPOYRM",
        "colab": {
          "base_uri": "https://localhost:8080/",
          "height": 226
        },
        "outputId": "2b8c48ee-eccd-4e54-8640-ff4b33d0a517"
      },
      "execution_count": null,
      "outputs": [
        {
          "output_type": "execute_result",
          "data": {
            "text/plain": [
              "  summary                 male                age           education  \\\n",
              "0   count                 4238               4238                4133   \n",
              "1    mean  0.42921189240207647  49.58494572911751  1.9789499153157513   \n",
              "2  stddev  0.49502208553649146  8.572159925118484  1.0197906893122037   \n",
              "3     min                  0.0               32.0                 1.0   \n",
              "4     max                  1.0               70.0                 4.0   \n",
              "\n",
              "         currentSmoker          cigsPerDay               BPMeds  \\\n",
              "0                 4238                4209                 4185   \n",
              "1  0.49410099103350635   9.003088619624615  0.02962962962962963   \n",
              "2   0.5000241969070374  11.920093587827756  0.16958356790200058   \n",
              "3                  0.0                 0.0                  0.0   \n",
              "4                  1.0                70.0                  1.0   \n",
              "\n",
              "        prevalentStroke         prevalentHyp              diabetes  \\\n",
              "0                  4238                 4238                  4238   \n",
              "1  0.005899008966493629  0.31052383199622463  0.025719679093912224   \n",
              "2   0.07658717064585814  0.46276269567370154   0.15831642786899564   \n",
              "3                   0.0                  0.0                   0.0   \n",
              "4                   1.0                  1.0                   1.0   \n",
              "\n",
              "              totChol               sysBP               diaBP  \\\n",
              "0                4188                4238                4238   \n",
              "1  236.72158548233045  132.35240679565834   82.89346389806512   \n",
              "2  44.590334318749456  22.038096643544563  11.910849600225525   \n",
              "3               107.0                83.5                48.0   \n",
              "4               696.0               295.0               142.5   \n",
              "\n",
              "                 BMI           heartRate             glucose  \\\n",
              "0               4219                4237                3850   \n",
              "1  25.80200758473571   75.87892376681614   81.96675324675324   \n",
              "2  4.080111062409031  12.026596351612579  23.959998189237467   \n",
              "3              15.54                44.0                40.0   \n",
              "4               56.8               143.0               394.0   \n",
              "\n",
              "           TenYearCHD  \n",
              "0                4238  \n",
              "1  0.1519584709768759  \n",
              "2  0.3590229919902725  \n",
              "3                 0.0  \n",
              "4                 1.0  "
            ],
            "text/html": [
              "\n",
              "  <div id=\"df-cce14605-0921-40a9-a544-e2af81601d87\" class=\"colab-df-container\">\n",
              "    <div>\n",
              "<style scoped>\n",
              "    .dataframe tbody tr th:only-of-type {\n",
              "        vertical-align: middle;\n",
              "    }\n",
              "\n",
              "    .dataframe tbody tr th {\n",
              "        vertical-align: top;\n",
              "    }\n",
              "\n",
              "    .dataframe thead th {\n",
              "        text-align: right;\n",
              "    }\n",
              "</style>\n",
              "<table border=\"1\" class=\"dataframe\">\n",
              "  <thead>\n",
              "    <tr style=\"text-align: right;\">\n",
              "      <th></th>\n",
              "      <th>summary</th>\n",
              "      <th>male</th>\n",
              "      <th>age</th>\n",
              "      <th>education</th>\n",
              "      <th>currentSmoker</th>\n",
              "      <th>cigsPerDay</th>\n",
              "      <th>BPMeds</th>\n",
              "      <th>prevalentStroke</th>\n",
              "      <th>prevalentHyp</th>\n",
              "      <th>diabetes</th>\n",
              "      <th>totChol</th>\n",
              "      <th>sysBP</th>\n",
              "      <th>diaBP</th>\n",
              "      <th>BMI</th>\n",
              "      <th>heartRate</th>\n",
              "      <th>glucose</th>\n",
              "      <th>TenYearCHD</th>\n",
              "    </tr>\n",
              "  </thead>\n",
              "  <tbody>\n",
              "    <tr>\n",
              "      <th>0</th>\n",
              "      <td>count</td>\n",
              "      <td>4238</td>\n",
              "      <td>4238</td>\n",
              "      <td>4133</td>\n",
              "      <td>4238</td>\n",
              "      <td>4209</td>\n",
              "      <td>4185</td>\n",
              "      <td>4238</td>\n",
              "      <td>4238</td>\n",
              "      <td>4238</td>\n",
              "      <td>4188</td>\n",
              "      <td>4238</td>\n",
              "      <td>4238</td>\n",
              "      <td>4219</td>\n",
              "      <td>4237</td>\n",
              "      <td>3850</td>\n",
              "      <td>4238</td>\n",
              "    </tr>\n",
              "    <tr>\n",
              "      <th>1</th>\n",
              "      <td>mean</td>\n",
              "      <td>0.42921189240207647</td>\n",
              "      <td>49.58494572911751</td>\n",
              "      <td>1.9789499153157513</td>\n",
              "      <td>0.49410099103350635</td>\n",
              "      <td>9.003088619624615</td>\n",
              "      <td>0.02962962962962963</td>\n",
              "      <td>0.005899008966493629</td>\n",
              "      <td>0.31052383199622463</td>\n",
              "      <td>0.025719679093912224</td>\n",
              "      <td>236.72158548233045</td>\n",
              "      <td>132.35240679565834</td>\n",
              "      <td>82.89346389806512</td>\n",
              "      <td>25.80200758473571</td>\n",
              "      <td>75.87892376681614</td>\n",
              "      <td>81.96675324675324</td>\n",
              "      <td>0.1519584709768759</td>\n",
              "    </tr>\n",
              "    <tr>\n",
              "      <th>2</th>\n",
              "      <td>stddev</td>\n",
              "      <td>0.49502208553649146</td>\n",
              "      <td>8.572159925118484</td>\n",
              "      <td>1.0197906893122037</td>\n",
              "      <td>0.5000241969070374</td>\n",
              "      <td>11.920093587827756</td>\n",
              "      <td>0.16958356790200058</td>\n",
              "      <td>0.07658717064585814</td>\n",
              "      <td>0.46276269567370154</td>\n",
              "      <td>0.15831642786899564</td>\n",
              "      <td>44.590334318749456</td>\n",
              "      <td>22.038096643544563</td>\n",
              "      <td>11.910849600225525</td>\n",
              "      <td>4.080111062409031</td>\n",
              "      <td>12.026596351612579</td>\n",
              "      <td>23.959998189237467</td>\n",
              "      <td>0.3590229919902725</td>\n",
              "    </tr>\n",
              "    <tr>\n",
              "      <th>3</th>\n",
              "      <td>min</td>\n",
              "      <td>0.0</td>\n",
              "      <td>32.0</td>\n",
              "      <td>1.0</td>\n",
              "      <td>0.0</td>\n",
              "      <td>0.0</td>\n",
              "      <td>0.0</td>\n",
              "      <td>0.0</td>\n",
              "      <td>0.0</td>\n",
              "      <td>0.0</td>\n",
              "      <td>107.0</td>\n",
              "      <td>83.5</td>\n",
              "      <td>48.0</td>\n",
              "      <td>15.54</td>\n",
              "      <td>44.0</td>\n",
              "      <td>40.0</td>\n",
              "      <td>0.0</td>\n",
              "    </tr>\n",
              "    <tr>\n",
              "      <th>4</th>\n",
              "      <td>max</td>\n",
              "      <td>1.0</td>\n",
              "      <td>70.0</td>\n",
              "      <td>4.0</td>\n",
              "      <td>1.0</td>\n",
              "      <td>70.0</td>\n",
              "      <td>1.0</td>\n",
              "      <td>1.0</td>\n",
              "      <td>1.0</td>\n",
              "      <td>1.0</td>\n",
              "      <td>696.0</td>\n",
              "      <td>295.0</td>\n",
              "      <td>142.5</td>\n",
              "      <td>56.8</td>\n",
              "      <td>143.0</td>\n",
              "      <td>394.0</td>\n",
              "      <td>1.0</td>\n",
              "    </tr>\n",
              "  </tbody>\n",
              "</table>\n",
              "</div>\n",
              "    <div class=\"colab-df-buttons\">\n",
              "\n",
              "  <div class=\"colab-df-container\">\n",
              "    <button class=\"colab-df-convert\" onclick=\"convertToInteractive('df-cce14605-0921-40a9-a544-e2af81601d87')\"\n",
              "            title=\"Convert this dataframe to an interactive table.\"\n",
              "            style=\"display:none;\">\n",
              "\n",
              "  <svg xmlns=\"http://www.w3.org/2000/svg\" height=\"24px\" viewBox=\"0 -960 960 960\">\n",
              "    <path d=\"M120-120v-720h720v720H120Zm60-500h600v-160H180v160Zm220 220h160v-160H400v160Zm0 220h160v-160H400v160ZM180-400h160v-160H180v160Zm440 0h160v-160H620v160ZM180-180h160v-160H180v160Zm440 0h160v-160H620v160Z\"/>\n",
              "  </svg>\n",
              "    </button>\n",
              "\n",
              "  <style>\n",
              "    .colab-df-container {\n",
              "      display:flex;\n",
              "      gap: 12px;\n",
              "    }\n",
              "\n",
              "    .colab-df-convert {\n",
              "      background-color: #E8F0FE;\n",
              "      border: none;\n",
              "      border-radius: 50%;\n",
              "      cursor: pointer;\n",
              "      display: none;\n",
              "      fill: #1967D2;\n",
              "      height: 32px;\n",
              "      padding: 0 0 0 0;\n",
              "      width: 32px;\n",
              "    }\n",
              "\n",
              "    .colab-df-convert:hover {\n",
              "      background-color: #E2EBFA;\n",
              "      box-shadow: 0px 1px 2px rgba(60, 64, 67, 0.3), 0px 1px 3px 1px rgba(60, 64, 67, 0.15);\n",
              "      fill: #174EA6;\n",
              "    }\n",
              "\n",
              "    .colab-df-buttons div {\n",
              "      margin-bottom: 4px;\n",
              "    }\n",
              "\n",
              "    [theme=dark] .colab-df-convert {\n",
              "      background-color: #3B4455;\n",
              "      fill: #D2E3FC;\n",
              "    }\n",
              "\n",
              "    [theme=dark] .colab-df-convert:hover {\n",
              "      background-color: #434B5C;\n",
              "      box-shadow: 0px 1px 3px 1px rgba(0, 0, 0, 0.15);\n",
              "      filter: drop-shadow(0px 1px 2px rgba(0, 0, 0, 0.3));\n",
              "      fill: #FFFFFF;\n",
              "    }\n",
              "  </style>\n",
              "\n",
              "    <script>\n",
              "      const buttonEl =\n",
              "        document.querySelector('#df-cce14605-0921-40a9-a544-e2af81601d87 button.colab-df-convert');\n",
              "      buttonEl.style.display =\n",
              "        google.colab.kernel.accessAllowed ? 'block' : 'none';\n",
              "\n",
              "      async function convertToInteractive(key) {\n",
              "        const element = document.querySelector('#df-cce14605-0921-40a9-a544-e2af81601d87');\n",
              "        const dataTable =\n",
              "          await google.colab.kernel.invokeFunction('convertToInteractive',\n",
              "                                                    [key], {});\n",
              "        if (!dataTable) return;\n",
              "\n",
              "        const docLinkHtml = 'Like what you see? Visit the ' +\n",
              "          '<a target=\"_blank\" href=https://colab.research.google.com/notebooks/data_table.ipynb>data table notebook</a>'\n",
              "          + ' to learn more about interactive tables.';\n",
              "        element.innerHTML = '';\n",
              "        dataTable['output_type'] = 'display_data';\n",
              "        await google.colab.output.renderOutput(dataTable, element);\n",
              "        const docLink = document.createElement('div');\n",
              "        docLink.innerHTML = docLinkHtml;\n",
              "        element.appendChild(docLink);\n",
              "      }\n",
              "    </script>\n",
              "  </div>\n",
              "\n",
              "\n",
              "<div id=\"df-9664574e-11fc-4614-ab9e-cd00e871d52e\">\n",
              "  <button class=\"colab-df-quickchart\" onclick=\"quickchart('df-9664574e-11fc-4614-ab9e-cd00e871d52e')\"\n",
              "            title=\"Suggest charts\"\n",
              "            style=\"display:none;\">\n",
              "\n",
              "<svg xmlns=\"http://www.w3.org/2000/svg\" height=\"24px\"viewBox=\"0 0 24 24\"\n",
              "     width=\"24px\">\n",
              "    <g>\n",
              "        <path d=\"M19 3H5c-1.1 0-2 .9-2 2v14c0 1.1.9 2 2 2h14c1.1 0 2-.9 2-2V5c0-1.1-.9-2-2-2zM9 17H7v-7h2v7zm4 0h-2V7h2v10zm4 0h-2v-4h2v4z\"/>\n",
              "    </g>\n",
              "</svg>\n",
              "  </button>\n",
              "\n",
              "<style>\n",
              "  .colab-df-quickchart {\n",
              "      --bg-color: #E8F0FE;\n",
              "      --fill-color: #1967D2;\n",
              "      --hover-bg-color: #E2EBFA;\n",
              "      --hover-fill-color: #174EA6;\n",
              "      --disabled-fill-color: #AAA;\n",
              "      --disabled-bg-color: #DDD;\n",
              "  }\n",
              "\n",
              "  [theme=dark] .colab-df-quickchart {\n",
              "      --bg-color: #3B4455;\n",
              "      --fill-color: #D2E3FC;\n",
              "      --hover-bg-color: #434B5C;\n",
              "      --hover-fill-color: #FFFFFF;\n",
              "      --disabled-bg-color: #3B4455;\n",
              "      --disabled-fill-color: #666;\n",
              "  }\n",
              "\n",
              "  .colab-df-quickchart {\n",
              "    background-color: var(--bg-color);\n",
              "    border: none;\n",
              "    border-radius: 50%;\n",
              "    cursor: pointer;\n",
              "    display: none;\n",
              "    fill: var(--fill-color);\n",
              "    height: 32px;\n",
              "    padding: 0;\n",
              "    width: 32px;\n",
              "  }\n",
              "\n",
              "  .colab-df-quickchart:hover {\n",
              "    background-color: var(--hover-bg-color);\n",
              "    box-shadow: 0 1px 2px rgba(60, 64, 67, 0.3), 0 1px 3px 1px rgba(60, 64, 67, 0.15);\n",
              "    fill: var(--button-hover-fill-color);\n",
              "  }\n",
              "\n",
              "  .colab-df-quickchart-complete:disabled,\n",
              "  .colab-df-quickchart-complete:disabled:hover {\n",
              "    background-color: var(--disabled-bg-color);\n",
              "    fill: var(--disabled-fill-color);\n",
              "    box-shadow: none;\n",
              "  }\n",
              "\n",
              "  .colab-df-spinner {\n",
              "    border: 2px solid var(--fill-color);\n",
              "    border-color: transparent;\n",
              "    border-bottom-color: var(--fill-color);\n",
              "    animation:\n",
              "      spin 1s steps(1) infinite;\n",
              "  }\n",
              "\n",
              "  @keyframes spin {\n",
              "    0% {\n",
              "      border-color: transparent;\n",
              "      border-bottom-color: var(--fill-color);\n",
              "      border-left-color: var(--fill-color);\n",
              "    }\n",
              "    20% {\n",
              "      border-color: transparent;\n",
              "      border-left-color: var(--fill-color);\n",
              "      border-top-color: var(--fill-color);\n",
              "    }\n",
              "    30% {\n",
              "      border-color: transparent;\n",
              "      border-left-color: var(--fill-color);\n",
              "      border-top-color: var(--fill-color);\n",
              "      border-right-color: var(--fill-color);\n",
              "    }\n",
              "    40% {\n",
              "      border-color: transparent;\n",
              "      border-right-color: var(--fill-color);\n",
              "      border-top-color: var(--fill-color);\n",
              "    }\n",
              "    60% {\n",
              "      border-color: transparent;\n",
              "      border-right-color: var(--fill-color);\n",
              "    }\n",
              "    80% {\n",
              "      border-color: transparent;\n",
              "      border-right-color: var(--fill-color);\n",
              "      border-bottom-color: var(--fill-color);\n",
              "    }\n",
              "    90% {\n",
              "      border-color: transparent;\n",
              "      border-bottom-color: var(--fill-color);\n",
              "    }\n",
              "  }\n",
              "</style>\n",
              "\n",
              "  <script>\n",
              "    async function quickchart(key) {\n",
              "      const quickchartButtonEl =\n",
              "        document.querySelector('#' + key + ' button');\n",
              "      quickchartButtonEl.disabled = true;  // To prevent multiple clicks.\n",
              "      quickchartButtonEl.classList.add('colab-df-spinner');\n",
              "      try {\n",
              "        const charts = await google.colab.kernel.invokeFunction(\n",
              "            'suggestCharts', [key], {});\n",
              "      } catch (error) {\n",
              "        console.error('Error during call to suggestCharts:', error);\n",
              "      }\n",
              "      quickchartButtonEl.classList.remove('colab-df-spinner');\n",
              "      quickchartButtonEl.classList.add('colab-df-quickchart-complete');\n",
              "    }\n",
              "    (() => {\n",
              "      let quickchartButtonEl =\n",
              "        document.querySelector('#df-9664574e-11fc-4614-ab9e-cd00e871d52e button');\n",
              "      quickchartButtonEl.style.display =\n",
              "        google.colab.kernel.accessAllowed ? 'block' : 'none';\n",
              "    })();\n",
              "  </script>\n",
              "</div>\n",
              "    </div>\n",
              "  </div>\n"
            ],
            "application/vnd.google.colaboratory.intrinsic+json": {
              "type": "dataframe",
              "summary": "{\n  \"name\": \"df_numeric\",\n  \"rows\": 5,\n  \"fields\": [\n    {\n      \"column\": \"summary\",\n      \"properties\": {\n        \"dtype\": \"string\",\n        \"num_unique_values\": 5,\n        \"samples\": [\n          \"mean\",\n          \"max\",\n          \"stddev\"\n        ],\n        \"semantic_type\": \"\",\n        \"description\": \"\"\n      }\n    },\n    {\n      \"column\": \"male\",\n      \"properties\": {\n        \"dtype\": \"string\",\n        \"num_unique_values\": 5,\n        \"samples\": [\n          \"0.42921189240207647\",\n          \"1.0\",\n          \"0.49502208553649146\"\n        ],\n        \"semantic_type\": \"\",\n        \"description\": \"\"\n      }\n    },\n    {\n      \"column\": \"age\",\n      \"properties\": {\n        \"dtype\": \"string\",\n        \"num_unique_values\": 5,\n        \"samples\": [\n          \"49.58494572911751\",\n          \"70.0\",\n          \"8.572159925118484\"\n        ],\n        \"semantic_type\": \"\",\n        \"description\": \"\"\n      }\n    },\n    {\n      \"column\": \"education\",\n      \"properties\": {\n        \"dtype\": \"string\",\n        \"num_unique_values\": 5,\n        \"samples\": [\n          \"1.9789499153157513\",\n          \"4.0\",\n          \"1.0197906893122037\"\n        ],\n        \"semantic_type\": \"\",\n        \"description\": \"\"\n      }\n    },\n    {\n      \"column\": \"currentSmoker\",\n      \"properties\": {\n        \"dtype\": \"string\",\n        \"num_unique_values\": 5,\n        \"samples\": [\n          \"0.49410099103350635\",\n          \"1.0\",\n          \"0.5000241969070374\"\n        ],\n        \"semantic_type\": \"\",\n        \"description\": \"\"\n      }\n    },\n    {\n      \"column\": \"cigsPerDay\",\n      \"properties\": {\n        \"dtype\": \"string\",\n        \"num_unique_values\": 5,\n        \"samples\": [\n          \"9.003088619624615\",\n          \"70.0\",\n          \"11.920093587827756\"\n        ],\n        \"semantic_type\": \"\",\n        \"description\": \"\"\n      }\n    },\n    {\n      \"column\": \"BPMeds\",\n      \"properties\": {\n        \"dtype\": \"string\",\n        \"num_unique_values\": 5,\n        \"samples\": [\n          \"0.02962962962962963\",\n          \"1.0\",\n          \"0.16958356790200058\"\n        ],\n        \"semantic_type\": \"\",\n        \"description\": \"\"\n      }\n    },\n    {\n      \"column\": \"prevalentStroke\",\n      \"properties\": {\n        \"dtype\": \"string\",\n        \"num_unique_values\": 5,\n        \"samples\": [\n          \"0.005899008966493629\",\n          \"1.0\",\n          \"0.07658717064585814\"\n        ],\n        \"semantic_type\": \"\",\n        \"description\": \"\"\n      }\n    },\n    {\n      \"column\": \"prevalentHyp\",\n      \"properties\": {\n        \"dtype\": \"string\",\n        \"num_unique_values\": 5,\n        \"samples\": [\n          \"0.31052383199622463\",\n          \"1.0\",\n          \"0.46276269567370154\"\n        ],\n        \"semantic_type\": \"\",\n        \"description\": \"\"\n      }\n    },\n    {\n      \"column\": \"diabetes\",\n      \"properties\": {\n        \"dtype\": \"string\",\n        \"num_unique_values\": 5,\n        \"samples\": [\n          \"0.025719679093912224\",\n          \"1.0\",\n          \"0.15831642786899564\"\n        ],\n        \"semantic_type\": \"\",\n        \"description\": \"\"\n      }\n    },\n    {\n      \"column\": \"totChol\",\n      \"properties\": {\n        \"dtype\": \"string\",\n        \"num_unique_values\": 5,\n        \"samples\": [\n          \"236.72158548233045\",\n          \"696.0\",\n          \"44.590334318749456\"\n        ],\n        \"semantic_type\": \"\",\n        \"description\": \"\"\n      }\n    },\n    {\n      \"column\": \"sysBP\",\n      \"properties\": {\n        \"dtype\": \"string\",\n        \"num_unique_values\": 5,\n        \"samples\": [\n          \"132.35240679565834\",\n          \"295.0\",\n          \"22.038096643544563\"\n        ],\n        \"semantic_type\": \"\",\n        \"description\": \"\"\n      }\n    },\n    {\n      \"column\": \"diaBP\",\n      \"properties\": {\n        \"dtype\": \"string\",\n        \"num_unique_values\": 5,\n        \"samples\": [\n          \"82.89346389806512\",\n          \"142.5\",\n          \"11.910849600225525\"\n        ],\n        \"semantic_type\": \"\",\n        \"description\": \"\"\n      }\n    },\n    {\n      \"column\": \"BMI\",\n      \"properties\": {\n        \"dtype\": \"string\",\n        \"num_unique_values\": 5,\n        \"samples\": [\n          \"25.80200758473571\",\n          \"56.8\",\n          \"4.080111062409031\"\n        ],\n        \"semantic_type\": \"\",\n        \"description\": \"\"\n      }\n    },\n    {\n      \"column\": \"heartRate\",\n      \"properties\": {\n        \"dtype\": \"string\",\n        \"num_unique_values\": 5,\n        \"samples\": [\n          \"75.87892376681614\",\n          \"143.0\",\n          \"12.026596351612579\"\n        ],\n        \"semantic_type\": \"\",\n        \"description\": \"\"\n      }\n    },\n    {\n      \"column\": \"glucose\",\n      \"properties\": {\n        \"dtype\": \"string\",\n        \"num_unique_values\": 5,\n        \"samples\": [\n          \"81.96675324675324\",\n          \"394.0\",\n          \"23.959998189237467\"\n        ],\n        \"semantic_type\": \"\",\n        \"description\": \"\"\n      }\n    },\n    {\n      \"column\": \"TenYearCHD\",\n      \"properties\": {\n        \"dtype\": \"string\",\n        \"num_unique_values\": 5,\n        \"samples\": [\n          \"0.1519584709768759\",\n          \"1.0\",\n          \"0.3590229919902725\"\n        ],\n        \"semantic_type\": \"\",\n        \"description\": \"\"\n      }\n    }\n  ]\n}"
            }
          },
          "metadata": {},
          "execution_count": 5
        }
      ]
    },
    {
      "cell_type": "markdown",
      "source": [
        "Also, we can calculate and plot the correlations between the numeric variables:"
      ],
      "metadata": {
        "id": "TOv6cQOGOlJW"
      }
    },
    {
      "cell_type": "code",
      "source": [
        "# import the scatter_matrix function\n",
        "\n",
        "#from pandas.plotting import scatter_matrix\n",
        "\n",
        "# converting the numeric features to Panadas dataframe and assigning them to variable\n",
        "# numeric_data\n",
        "\n",
        "#numeric_data = df_numeric.toPandas()\n",
        "\n",
        "# using scatter_matrix function to visualize the correlations between the numeric variables\n",
        "#axs = scatter_matrix(numeric_data, figsize = (15, 15))\n"
      ],
      "metadata": {
        "id": "HWHfhEqjOpvm"
      },
      "execution_count": null,
      "outputs": []
    },
    {
      "cell_type": "markdown",
      "source": [
        "We can see that currentSmoker, cigsPerDay, sysBP, diaBP, prevalentHyp Also, we can also use heatmap as another way of investigating the correlation between the numeric variables. For this, we will use seaborn package to generate the heatmap visualization:"
      ],
      "metadata": {
        "id": "oTNXvJsSPhSv"
      }
    },
    {
      "cell_type": "code",
      "source": [
        "#import seaborn as sns\n",
        "#import matplotlib.pyplot as plt\n",
        "\n",
        "#fig = plt.figure(figsize = (15,10))\n",
        "#sns.heatmap(numeric_data.corr(method = 'pearson'), annot = True, cmap = \"Blues\")\n",
        "#plt.title(\"Correlation Heatmap\")\n"
      ],
      "metadata": {
        "id": "LA4I7lE2Ph3_"
      },
      "execution_count": null,
      "outputs": []
    },
    {
      "cell_type": "code",
      "source": [
        "# Removing observations with null values\n",
        "df = df_numeric\n",
        "df = df.na.drop()"
      ],
      "metadata": {
        "id": "1QGohLbVq0Qg"
      },
      "execution_count": null,
      "outputs": []
    },
    {
      "cell_type": "markdown",
      "source": [
        "## Data Prep\n"
      ],
      "metadata": {
        "id": "Z3hicUIqSstO"
      }
    },
    {
      "cell_type": "code",
      "source": [
        "from pyspark.ml.feature import VectorAssembler\n",
        "\n",
        "feature_columns = df.columns[:-1]\n",
        "\n",
        "# using the VectorAssembler to combine all the feature columns into a single vector column\n",
        "assemblerInputs = df.columns[:-1]\n",
        "assembler = VectorAssembler(inputCols=assemblerInputs, outputCol = \"features\")\n",
        "df_assembled = assembler.transform(df)\n",
        "\n",
        "df_assembled = df_assembled.withColumnRenamed(\"TenYearCHD\", \"label\")"
      ],
      "metadata": {
        "id": "Sb7GkqOwpFq4"
      },
      "execution_count": null,
      "outputs": []
    },
    {
      "cell_type": "markdown",
      "source": [
        "Creating train and test using 70:30 split on assembled vectorized dataset"
      ],
      "metadata": {
        "id": "sUZ0ga1m2Ttn"
      }
    },
    {
      "cell_type": "code",
      "source": [
        "train, test = df_assembled.randomSplit([0.7, 0.3], seed = 2022)\n",
        "print(\"Training Dataset Count: \" + str(train.count()))\n",
        "print(\"Test Dataset Count: \" + str(test.count()))\n"
      ],
      "metadata": {
        "id": "HmR_uWjKTlLa",
        "colab": {
          "base_uri": "https://localhost:8080/"
        },
        "outputId": "85ff3cd6-8a92-46f9-d55f-ff70e1e6fb3f"
      },
      "execution_count": null,
      "outputs": [
        {
          "output_type": "stream",
          "name": "stdout",
          "text": [
            "Training Dataset Count: 2527\n",
            "Test Dataset Count: 1129\n"
          ]
        }
      ]
    },
    {
      "cell_type": "markdown",
      "source": [
        "## Logistic Regression (LR) Model\n",
        "\n",
        "First, we need to import the Logistic Regression classifier and set its parameters and train it using the training dataset using the fit function:\n"
      ],
      "metadata": {
        "id": "w-oy0vHwTvHv"
      }
    },
    {
      "cell_type": "code",
      "source": [
        "# import LogisticRegression classifier\n",
        "from pyspark.ml.classification import LogisticRegression\n",
        "# configuring and training the Logistic Regression classifier using the training data\n",
        "lr = LogisticRegression(featuresCol = 'features', labelCol = 'label', maxIter=10)\n",
        "lrModel = lr.fit(train)"
      ],
      "metadata": {
        "id": "Hhn1CgBDTvpV"
      },
      "execution_count": null,
      "outputs": []
    },
    {
      "cell_type": "markdown",
      "source": [
        "Now, we can calculate and plot the evaluation metrics (ROC, Area Under ROC curve, Precision and Recall) for the trained LR model."
      ],
      "metadata": {
        "id": "HA4hCbJUUK37"
      }
    },
    {
      "cell_type": "code",
      "source": [
        "import seaborn as sns\n",
        "import matplotlib.pyplot as plt\n",
        "# calculate the statistics summary for the Logistic Regression model\n",
        "trainingSummary = lrModel.summary\n",
        "# plot the ROC curve from the calculated summary\n",
        "roc = trainingSummary.roc.toPandas()\n",
        "plt.plot(roc['FPR'],roc['TPR'])\n",
        "plt.ylabel('False Positive Rate')\n",
        "plt.xlabel('True Positive Rate')\n",
        "plt.title('ROC Curve')\n",
        "plt.show()\n",
        "print('Training set Area Under ROC: ' + str(trainingSummary.areaUnderROC))\n"
      ],
      "metadata": {
        "id": "ZrfW-X6HULYV",
        "colab": {
          "base_uri": "https://localhost:8080/",
          "height": 490
        },
        "outputId": "3f0f59e5-1855-4076-ab85-908cd30d5853"
      },
      "execution_count": null,
      "outputs": [
        {
          "output_type": "display_data",
          "data": {
            "text/plain": [
              "<Figure size 640x480 with 1 Axes>"
            ],
            "image/png": "[encoded data removed]"
          },
          "metadata": {}
        },
        {
          "output_type": "stream",
          "name": "stdout",
          "text": [
            "Training set Area Under ROC: 0.7344434743594429\n"
          ]
        }
      ]
    },
    {
      "cell_type": "markdown",
      "source": [
        "Also, we can calculate and plot the recall and precision for the Logistic Regression model:"
      ],
      "metadata": {
        "id": "nvj0ufeKUR8q"
      }
    },
    {
      "cell_type": "code",
      "source": [
        "pr = trainingSummary.pr.toPandas()\n",
        "plt.plot(pr['recall'],pr['precision'])\n",
        "plt.ylabel('Precision')\n",
        "plt.xlabel('Recall')\n",
        "plt.show()\n"
      ],
      "metadata": {
        "id": "dybg1vJKUUae",
        "colab": {
          "base_uri": "https://localhost:8080/",
          "height": 449
        },
        "outputId": "422b287d-f99d-4ea9-8b32-97c96af29777"
      },
      "execution_count": null,
      "outputs": [
        {
          "output_type": "display_data",
          "data": {
            "text/plain": [
              "<Figure size 640x480 with 1 Axes>"
            ],
            "image/png": "[encoded data removed]"
          },
          "metadata": {}
        }
      ]
    },
    {
      "cell_type": "code",
      "source": [
        "# Testing the performance of the Logistic Regression classifier using the testing data\n",
        "predictions = lrModel.transform(test)\n",
        "predictions.select('label', 'prediction', 'rawPrediction', 'probability').show(10)"
      ],
      "metadata": {
        "id": "t5D2mmEcUbM0",
        "colab": {
          "base_uri": "https://localhost:8080/"
        },
        "outputId": "ff8d216e-e4dd-4c87-c977-1f54b68ce82c"
      },
      "execution_count": null,
      "outputs": [
        {
          "output_type": "stream",
          "name": "stdout",
          "text": [
            "+-----+----------+--------------------+--------------------+\n",
            "|label|prediction|       rawPrediction|         probability|\n",
            "+-----+----------+--------------------+--------------------+\n",
            "|  0.0|       0.0|[4.14169438207325...|[0.98435283080370...|\n",
            "|  0.0|       0.0|[3.71921119731062...|[0.97632119305841...|\n",
            "|  0.0|       0.0|[3.88066765340938...|[0.97978023397500...|\n",
            "|  0.0|       0.0|[3.85221791313646...|[0.97920885771243...|\n",
            "|  0.0|       0.0|[3.25238257048253...|[0.96275863265516...|\n",
            "|  0.0|       0.0|[3.91868489740417...|[0.98051981190538...|\n",
            "|  0.0|       0.0|[3.96161706132201...|[0.98132315066464...|\n",
            "|  0.0|       0.0|[3.69686626708759...|[0.97579908499441...|\n",
            "|  0.0|       0.0|[3.73562123241142...|[0.97669761153386...|\n",
            "|  0.0|       0.0|[3.71737759340648...|[0.97627876653863...|\n",
            "+-----+----------+--------------------+--------------------+\n",
            "only showing top 10 rows\n",
            "\n"
          ]
        }
      ]
    },
    {
      "cell_type": "markdown",
      "source": [
        "👉 Now, we can measure the performance of the LR model:"
      ],
      "metadata": {
        "id": "hWcGfoPAUzrA"
      }
    },
    {
      "cell_type": "code",
      "source": [
        "# Import model evaluator\n",
        "from pyspark.ml.evaluation import BinaryClassificationEvaluator\n",
        "\n",
        "evaluator = BinaryClassificationEvaluator()\n",
        "print('Test Area Under ROC', evaluator.evaluate(predictions))\n"
      ],
      "metadata": {
        "id": "6xOKBGTeU0LI",
        "colab": {
          "base_uri": "https://localhost:8080/"
        },
        "outputId": "bd2f5cdd-c238-4294-f358-1d2f7a0f9a03"
      },
      "execution_count": null,
      "outputs": [
        {
          "output_type": "stream",
          "name": "stdout",
          "text": [
            "Test Area Under ROC 0.7459478505990115\n"
          ]
        }
      ]
    },
    {
      "cell_type": "code",
      "source": [
        "# compute TN, TP, FN, and FP\n",
        "predictions.groupBy('label', 'prediction').count().show()\n"
      ],
      "metadata": {
        "colab": {
          "base_uri": "https://localhost:8080/"
        },
        "id": "xD7sLvH9zrro",
        "outputId": "02f85ab7-0bc4-4242-e838-8de898730c3b"
      },
      "execution_count": null,
      "outputs": [
        {
          "output_type": "stream",
          "name": "stdout",
          "text": [
            "+-----+----------+-----+\n",
            "|label|prediction|count|\n",
            "+-----+----------+-----+\n",
            "|  1.0|       1.0|   15|\n",
            "|  0.0|       1.0|    8|\n",
            "|  1.0|       0.0|  157|\n",
            "|  0.0|       0.0|  949|\n",
            "+-----+----------+-----+\n",
            "\n"
          ]
        }
      ]
    },
    {
      "cell_type": "code",
      "source": [
        "# Calculate the elements of the confusion matrix\n",
        "TN = 949\n",
        "TP = 15\n",
        "FN = 157\n",
        "FP = 8\n",
        "\n",
        "# Calculate accuracy, precision, recall, and F1-score\n",
        "accuracy = (TP+TN)/(TP+TN+FP+FN)\n",
        "sensitivity = (TP)/(TP+FN)\n",
        "specificity = (TN)/(TN+FP)\n",
        "precision = (TP)/(TP+FP)\n",
        "recall = (TP)/(TP+FN)\n",
        "F1_score = (2*precision*recall)/(precision+recall)\n",
        "\n",
        "print('Accuracy: ', accuracy)\n",
        "print('Sensitivity: ', sensitivity)\n",
        "print('Specificity: ', specificity)\n",
        "print('Precision: ', precision)\n",
        "print('Recall: ', recall)\n",
        "print('F1-score: ', F1_score)"
      ],
      "metadata": {
        "colab": {
          "base_uri": "https://localhost:8080/"
        },
        "id": "ocjY6BQhG5F5",
        "outputId": "c14e8d15-136b-4888-c47a-8d9f224d8fb1"
      },
      "execution_count": null,
      "outputs": [
        {
          "output_type": "stream",
          "name": "stdout",
          "text": [
            "Accuracy:  0.853852967227635\n",
            "Sensitivity:  0.0872093023255814\n",
            "Specificity:  0.9916405433646813\n",
            "Precision:  0.6521739130434783\n",
            "Recall:  0.0872093023255814\n",
            "F1-score:  0.15384615384615385\n"
          ]
        }
      ]
    },
    {
      "cell_type": "code",
      "source": [
        "# Calculate the elements of the confusion matrix\n",
        "TN = predictions.filter('prediction = 1 AND label = 1').count()\n",
        "TP = predictions.filter('prediction = 0 AND label = 0').count()\n",
        "FN = predictions.filter('prediction = 0 AND label = 1').count()\n",
        "FP = predictions.filter('prediction = 1 AND label = 0').count()\n",
        "\n",
        "# Calculate accuracy, precision, recall, and F1-score\n",
        "accuracy = (TP+TN)/(TP+TN+FP+FN)\n",
        "sensitivity = (TP)/(TP+FN)\n",
        "specificity = (TN)/(TN+FP)\n",
        "precision = (TP)/(TP+FP)\n",
        "recall = (TP)/(TP+FN)\n",
        "F1_score = (2*precision*recall)/(precision+recall)\n",
        "\n",
        "print('Accuracy: ', accuracy)\n",
        "print('Sensitivity: ', sensitivity)\n",
        "print('Specificity: ', specificity)\n",
        "print('Precision: ', precision)\n",
        "print('Recall: ', recall)\n",
        "print('F1-score: ', F1_score)"
      ],
      "metadata": {
        "id": "FS44XiKDG3Qg"
      },
      "execution_count": null,
      "outputs": []
    },
    {
      "cell_type": "markdown",
      "source": [
        "## Gradient-Boosted Tree (GBT) Model"
      ],
      "metadata": {
        "id": "A2tmbt2Nh-m6"
      }
    },
    {
      "cell_type": "code",
      "source": [
        "# import the Gradient-Boosted Tree classifier\n",
        "from pyspark.ml.classification import GBTClassifier\n",
        "\n",
        "# configuring and training the Gradient-Boosted Tree classifier using the training data\n",
        "gbt = GBTClassifier(maxIter=10)\n",
        "\n",
        "gbtModel = gbt.fit(train)\n",
        "\n",
        "predictions = gbtModel.transform(test)\n",
        "predictions.select('label', 'prediction').show(10)\n",
        "\n",
        "#from pyspark.ml.evaluation import BinaryClassificationEvaluator\n",
        "\n",
        "evaluator = BinaryClassificationEvaluator()\n",
        "print('Test Area Under ROC', evaluator.evaluate(predictions))\n",
        "\n"
      ],
      "metadata": {
        "id": "pHQ1KxXxirn-",
        "colab": {
          "base_uri": "https://localhost:8080/"
        },
        "outputId": "df5e9c23-9694-4330-86db-ad57dc8c17f6"
      },
      "execution_count": null,
      "outputs": [
        {
          "output_type": "stream",
          "name": "stdout",
          "text": [
            "+-----+----------+\n",
            "|label|prediction|\n",
            "+-----+----------+\n",
            "|  0.0|       0.0|\n",
            "|  0.0|       0.0|\n",
            "|  0.0|       0.0|\n",
            "|  0.0|       0.0|\n",
            "|  0.0|       0.0|\n",
            "|  0.0|       0.0|\n",
            "|  0.0|       0.0|\n",
            "|  0.0|       0.0|\n",
            "|  0.0|       0.0|\n",
            "|  0.0|       0.0|\n",
            "+-----+----------+\n",
            "only showing top 10 rows\n",
            "\n",
            "Test Area Under ROC 0.7037131539938262\n"
          ]
        }
      ]
    },
    {
      "cell_type": "markdown",
      "source": [
        "explainParams() returns the documentation of all params with their optionally default values and user-supplied values."
      ],
      "metadata": {
        "id": "Nho13LgQprot"
      }
    },
    {
      "cell_type": "code",
      "source": [
        "print(gbt.explainParams())"
      ],
      "metadata": {
        "id": "KwCpAXuIjAFE"
      },
      "execution_count": null,
      "outputs": []
    },
    {
      "cell_type": "markdown",
      "source": [
        "👉 Now, we can try to re-configure some of the parameters to improve the GBT model performance using ParamGridBuilder and CrossValidator.\n",
        "\n",
        "⚠ Warning: This might take a while to run"
      ],
      "metadata": {
        "id": "CbvPE6_yjIR6"
      }
    },
    {
      "cell_type": "code",
      "source": [
        "from pyspark.ml.tuning import ParamGridBuilder, CrossValidator\n",
        "\n",
        "paramGrid = (ParamGridBuilder()\n",
        "             .addGrid(gbt.maxDepth, [2, 4, 6])\n",
        "             .addGrid(gbt.maxBins, [20, 60])\n",
        "             .addGrid(gbt.maxIter, [10, 20])\n",
        "             .build())\n",
        "\n",
        "cv = CrossValidator(estimator=gbt, estimatorParamMaps=paramGrid, evaluator=evaluator, numFolds=5)\n",
        "\n",
        "# Run cross validations.  This can take about 6 minutes since it is training over 20 trees!\n",
        "cvModel = cv.fit(train)\n",
        "predictions = cvModel.transform(test)\n",
        "evaluator.evaluate(predictions)\n"
      ],
      "metadata": {
        "id": "TqzPIPcCjIzp"
      },
      "execution_count": null,
      "outputs": []
    },
    {
      "cell_type": "markdown",
      "source": [
        "✏️ We can also calculate other evaluation metrics (precision, recall, accuracy and F score) to evaluate each of the models developed above using the following code. See the formulas in the lab brief.\n"
      ],
      "metadata": {
        "id": "ipIT5oMrjRfw"
      }
    },
    {
      "cell_type": "code",
      "source": [
        "# compute TN, TP, FN, and FP\n",
        "predictions.groupBy('label', 'prediction').count().show()\n",
        "\n",
        "# Calculate the elements of the confusion matrix\n",
        "TN = predictions.filter('prediction = 0 AND label = prediction').count()\n",
        "TP = predictions.filter('prediction = 1 AND label = prediction').count()\n",
        "FN = predictions.filter('prediction = 0 AND label <> prediction').count()\n",
        "FP = predictions.filter('prediction = 1 AND label <> prediction').count()\n",
        "\n",
        "# Calculate accuracy, precision, recall, and F1-score\n",
        "accuracy = (TP+TN)/(TP+TN+FP+FN)\n",
        "precision = (TP)/(TP+FP)\n",
        "recall = (TP)/(TP+FN)\n",
        "F1_score = (2*precision*recall)/(precision+recall)\n",
        "\n",
        "print('Accuracy: ', accuracy)\n",
        "print('Precision: ', precision)\n",
        "print('Recall: ', recall)\n",
        "print('F1-score: ', F1_score)\n"
      ],
      "metadata": {
        "id": "euvW1U6sjSuI"
      },
      "execution_count": null,
      "outputs": []
    }
  ],
  "metadata": {
    "colab": {
      "provenance": []
    },
    "kernelspec": {
      "display_name": "Python 3",
      "name": "python3"
    },
    "language_info": {
      "name": "python"
    }
  },
  "nbformat": 4,
  "nbformat_minor": 0
}